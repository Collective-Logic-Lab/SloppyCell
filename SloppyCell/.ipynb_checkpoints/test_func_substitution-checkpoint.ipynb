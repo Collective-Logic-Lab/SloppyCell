{
 "cells": [
  {
   "cell_type": "code",
   "execution_count": 10,
   "metadata": {},
   "outputs": [],
   "source": [
    "from ast import *\n",
    "def strip_parse(expr):\n",
    "    return parse(expr)\n",
    "def sub_for_func(expr, func_name, func_vars, func_expr):\n",
    "    \"\"\"\n",
    "    Return a string with the function func_name substituted for its exploded \n",
    "    form.\n",
    "    \n",
    "    func_name: The name of the function.\n",
    "    func_vars: A sequence variables used by the function expression\n",
    "    func_expr: The expression for the function.\n",
    "    For example:\n",
    "        If f(x, y, z) = sqrt(z)*x*y-z\n",
    "        func_name = 'f'\n",
    "        func_vars = ['x', 'y', 'z']\n",
    "        func_expr = 'sqrt(z)*x*y-z'\n",
    "\n",
    "    As a special case, functions that take a variable number of arguments can\n",
    "    use '*' for func_vars.\n",
    "    For example:\n",
    "        sub_for_func('or_func(or_func(A,D),B,C)', 'or_func', '*', 'x or y')\n",
    "        yields '(A or D) or B or C'\n",
    "    \"\"\"\n",
    "    ast = strip_parse(expr)\n",
    "    print(func_name, func_vars, func_expr_ast)\n",
    "    func_name_ast = strip_parse(func_name)\n",
    "    if not isinstance(func_name_ast, Name):\n",
    "        raise ValueError('Function name is not a simple name.')\n",
    "    func_name = func_name_ast.name\n",
    "\n",
    "    func_expr_ast = strip_parse(func_expr)\n",
    "    # We can strip_parse  the '*', so we special case it here.\n",
    "    if func_vars == '*':\n",
    "        if not hasattr(func_expr_ast, 'nodes'):\n",
    "            raise ValueError(\"Top-level function in %s does not appear to \"\n",
    "                             \"accept variable number of arguments. (It has no \"\n",
    "                             \"'nodes' attribute.)\" % func_expr)\n",
    "\n",
    "        func_var_names = '*'\n",
    "    else:\n",
    "        func_vars_ast = [strip_parse(var) for var in func_vars]\n",
    "        for var_ast in func_vars_ast:\n",
    "            if not isinstance(var_ast, Name):\n",
    "                raise ValueError('Function variable is not a simple name.')\n",
    "        func_var_names = [getattr(var_ast, 'name') for var_ast in func_vars_ast]\n",
    "\n",
    "    ast = _sub_for_func_ast(ast, func_name, func_var_names, func_expr_ast)\n",
    "    simple = Simplify._simplify_ast(ast)\n",
    "    return ast2str(simple)\n",
    "\n",
    "def _sub_for_func_ast(ast, func_name, func_vars, func_expr_ast):\n",
    "    \"\"\"\n",
    "    Return an ast with the function func_name substituted out.\n",
    "    \"\"\"\n",
    "    print(func_name, func_vars, func_expr_ast)\n",
    "    if isinstance(ast, Call) and ast2str(ast.node) == func_name\\\n",
    "       and func_vars == '*':\n",
    "        working_ast = copy.deepcopy(func_expr_ast)\n",
    "        new_args = [_sub_for_func_ast(arg_ast, func_name, func_vars, \n",
    "                                      func_expr_ast) for arg_ast in ast.args]\n",
    "        # This subs out the arguments of the original function.\n",
    "        working_ast.nodes = new_args\n",
    "        return working_ast\n",
    "    if isinstance(ast, Call) and ast2str(ast.node) == func_name\\\n",
    "       and len(ast.args) == len(func_vars):\n",
    "        # If our ast is the function we're looking for, we take the ast\n",
    "        #  for the function expression, substitute for its arguments, and\n",
    "        #  return\n",
    "        working_ast = copy.deepcopy(func_expr_ast)\n",
    "        mapping = {}\n",
    "        for var_name, arg_ast in zip(func_vars, ast.args):\n",
    "            subbed_arg_ast = _sub_for_func_ast(arg_ast, func_name, func_vars, \n",
    "                                               func_expr_ast)\n",
    "            mapping[var_name] = subbed_arg_ast\n",
    "        _sub_subtrees_for_vars(working_ast, mapping)\n",
    "        return working_ast\n",
    "    ast = AST.recurse_down_tree(ast, _sub_for_func_ast, \n",
    "                                (func_name, func_vars, func_expr_ast,))\n",
    "    return ast"
   ]
  },
  {
   "cell_type": "code",
   "execution_count": 11,
   "metadata": {},
   "outputs": [],
   "source": [
    "def test_sub_for_func():\n",
    "    cases = [('f(x)', 'f', 'y', 'y+1',\n",
    "              'x+1'),\n",
    "             ]\n",
    "\n",
    "    for expr, func_name, func_vars, func_expr, answer in cases:\n",
    "        subbed = sub_for_func(expr, func_name, func_vars,\n",
    "                                           func_expr)\n",
    "        assert eval(answer) == eval(subbed)"
   ]
  },
  {
   "cell_type": "code",
   "execution_count": 12,
   "metadata": {},
   "outputs": [
    {
     "ename": "ValueError",
     "evalue": "Function name is not a simple name.",
     "output_type": "error",
     "traceback": [
      "\u001b[0;31m---------------------------------------------------------------------------\u001b[0m",
      "\u001b[0;31mValueError\u001b[0m                                Traceback (most recent call last)",
      "\u001b[0;32m<ipython-input-12-4ca492db1c4f>\u001b[0m in \u001b[0;36m<module>\u001b[0;34m()\u001b[0m\n\u001b[0;32m----> 1\u001b[0;31m \u001b[0mtest_sub_for_func\u001b[0m\u001b[0;34m(\u001b[0m\u001b[0;34m)\u001b[0m\u001b[0;34m\u001b[0m\u001b[0m\n\u001b[0m",
      "\u001b[0;32m<ipython-input-11-1135ca043273>\u001b[0m in \u001b[0;36mtest_sub_for_func\u001b[0;34m()\u001b[0m\n\u001b[1;32m      6\u001b[0m     \u001b[0;32mfor\u001b[0m \u001b[0mexpr\u001b[0m\u001b[0;34m,\u001b[0m \u001b[0mfunc_name\u001b[0m\u001b[0;34m,\u001b[0m \u001b[0mfunc_vars\u001b[0m\u001b[0;34m,\u001b[0m \u001b[0mfunc_expr\u001b[0m\u001b[0;34m,\u001b[0m \u001b[0manswer\u001b[0m \u001b[0;32min\u001b[0m \u001b[0mcases\u001b[0m\u001b[0;34m:\u001b[0m\u001b[0;34m\u001b[0m\u001b[0m\n\u001b[1;32m      7\u001b[0m         subbed = sub_for_func(expr, func_name, func_vars,\n\u001b[0;32m----> 8\u001b[0;31m                                            func_expr)\n\u001b[0m\u001b[1;32m      9\u001b[0m         \u001b[0;32massert\u001b[0m \u001b[0meval\u001b[0m\u001b[0;34m(\u001b[0m\u001b[0manswer\u001b[0m\u001b[0;34m)\u001b[0m \u001b[0;34m==\u001b[0m \u001b[0meval\u001b[0m\u001b[0;34m(\u001b[0m\u001b[0msubbed\u001b[0m\u001b[0;34m)\u001b[0m\u001b[0;34m\u001b[0m\u001b[0m\n",
      "\u001b[0;32m<ipython-input-10-00a1e044418a>\u001b[0m in \u001b[0;36msub_for_func\u001b[0;34m(expr, func_name, func_vars, func_expr)\u001b[0m\n\u001b[1;32m     25\u001b[0m     \u001b[0mfunc_name_ast\u001b[0m \u001b[0;34m=\u001b[0m \u001b[0mstrip_parse\u001b[0m\u001b[0;34m(\u001b[0m\u001b[0mfunc_name\u001b[0m\u001b[0;34m)\u001b[0m\u001b[0;34m\u001b[0m\u001b[0m\n\u001b[1;32m     26\u001b[0m     \u001b[0;32mif\u001b[0m \u001b[0;32mnot\u001b[0m \u001b[0misinstance\u001b[0m\u001b[0;34m(\u001b[0m\u001b[0mfunc_name_ast\u001b[0m\u001b[0;34m,\u001b[0m \u001b[0mName\u001b[0m\u001b[0;34m)\u001b[0m\u001b[0;34m:\u001b[0m\u001b[0;34m\u001b[0m\u001b[0m\n\u001b[0;32m---> 27\u001b[0;31m         \u001b[0;32mraise\u001b[0m \u001b[0mValueError\u001b[0m\u001b[0;34m(\u001b[0m\u001b[0;34m'Function name is not a simple name.'\u001b[0m\u001b[0;34m)\u001b[0m\u001b[0;34m\u001b[0m\u001b[0m\n\u001b[0m\u001b[1;32m     28\u001b[0m     \u001b[0mfunc_name\u001b[0m \u001b[0;34m=\u001b[0m \u001b[0mfunc_name_ast\u001b[0m\u001b[0;34m.\u001b[0m\u001b[0mname\u001b[0m\u001b[0;34m\u001b[0m\u001b[0m\n\u001b[1;32m     29\u001b[0m \u001b[0;34m\u001b[0m\u001b[0m\n",
      "\u001b[0;31mValueError\u001b[0m: Function name is not a simple name."
     ]
    }
   ],
   "source": [
    "test_sub_for_func()"
   ]
  }
 ],
 "metadata": {
  "kernelspec": {
   "display_name": "Python 3",
   "language": "python",
   "name": "python3"
  },
  "language_info": {
   "codemirror_mode": {
    "name": "ipython",
    "version": 2
   },
   "file_extension": ".py",
   "mimetype": "text/x-python",
   "name": "python",
   "nbconvert_exporter": "python",
   "pygments_lexer": "ipython2",
   "version": "2.7.18"
  }
 },
 "nbformat": 4,
 "nbformat_minor": 2
}
