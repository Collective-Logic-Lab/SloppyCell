{
 "cells": [
  {
   "cell_type": "code",
   "execution_count": 2,
   "metadata": {},
   "outputs": [],
   "source": [
    "from ast import *\n",
    "def _sub_subtrees_for_vars(ast, ast_mappings):\n",
    "    for node in walk(ast):\n",
    "        if isinstance(node, Name) and ast_mappings.has_key(unparse(ast)):\n",
    "            node = ast_mappings[unparse(ast)]\n",
    "    return ast\n",
    "def strip_parse(expr):\n",
    "    return parse(expr)\n",
    "def sub_for_func(expr, func_name, func_vars, func_expr):\n",
    "    ast = strip_parse(expr)\n",
    "    func_name_ast = strip_parse(func_name)\n",
    "    nodes = [node for node in walk(func_name_ast.body[0])]\n",
    "    print(nodes)\n",
    "    if not isinstance(nodes[1], Name):\n",
    "        raise ValueError('Function name is not a simple name.')\n",
    "    \n",
    "    func_name = func_name_ast.body[0].value.id\n",
    "    print(func_name)\n",
    "    func_expr_ast = strip_parse(func_expr)\n",
    "    # We can strip_parse  the '*', so we special case it here.\n",
    "    if func_vars == '*':\n",
    "        if not hasattr(func_expr_ast, 'nodes'):\n",
    "            raise ValueError(\"Top-level function in %s does not appear to \"\n",
    "                             \"accept variable number of arguments. (It has no \"\n",
    "                             \"'nodes' attribute.)\" % func_expr)\n",
    "\n",
    "        func_var_names = '*'\n",
    "    else:\n",
    "        func_vars_ast = [strip_parse(var).body[0].value for var in func_vars]\n",
    "        for var_ast in func_vars_ast:\n",
    "            if not isinstance(var_ast, Name):\n",
    "                raise ValueError('Function variable is not a simple name.')\n",
    "        func_var_names = [getattr(var_ast, 'id') for var_ast in func_vars_ast]\n",
    "        print(func_var_names)\n",
    "\n",
    "    ast = _sub_for_func_ast(ast, func_name, func_var_names, func_expr_ast)\n",
    "#     simple = Simplify._simplify_ast(ast)\n",
    "    return ast\n",
    "\n",
    "\n",
    "def _sub_for_func_ast(ast, func_name, func_vars, func_expr_ast):\n",
    "\n",
    "    print(dump(ast), func_name, func_vars, dump(func_expr_ast))\n",
    "    for node in walk(ast):\n",
    "    \n",
    "        if isinstance(node, Call) and unparse(node.value.id) == func_name\\\n",
    "           and func_vars == '*':\n",
    "            working_ast = copy.deepcopy(func_expr_ast)\n",
    "            new_args = [_sub_for_func_ast(arg_ast, func_name, func_vars, \n",
    "                                          func_expr_ast) for arg_ast in node.value.args]\n",
    "            # This subs out the arguments of the original function.\n",
    "            working_ast.node.value.args = new_args\n",
    "            return working_ast\n",
    "        if isinstance(ast, Call) and unparse(node.value.id) == func_name\\\n",
    "           and len(node.value.args) == len(func_vars):\n",
    "            # If our ast is the function we're looking for, we take the ast\n",
    "            #  for the function expression, substitute for its arguments, and\n",
    "            #  return\n",
    "            working_ast = copy.deepcopy(func_expr_ast)\n",
    "            mapping = {}\n",
    "            for var_name, arg_ast in zip(func_vars, node.value.args):\n",
    "                subbed_arg_ast = _sub_for_func_ast(arg_ast, func_name, func_vars, \n",
    "                                                   func_expr_ast)\n",
    "                mapping[var_name] = subbed_arg_ast\n",
    "            _sub_subtrees_for_vars(working_ast, mapping)\n",
    "            return working_ast\n",
    "    return ast\n",
    "    "
   ]
  },
  {
   "cell_type": "code",
   "execution_count": 3,
   "metadata": {},
   "outputs": [],
   "source": [
    "def test_sub_for_func():\n",
    "    cases = [('f(x)', 'f', 'y', 'y+1',\n",
    "              'x+1'),\n",
    "             ]\n",
    "\n",
    "    for expr, func_name, func_vars, func_expr, answer in cases:\n",
    "        print\n",
    "        subbed = sub_for_func(expr, func_name, func_vars,\n",
    "                                           func_expr)\n",
    "        assert eval(answer) == eval(subbed)"
   ]
  },
  {
   "cell_type": "code",
   "execution_count": 4,
   "metadata": {},
   "outputs": [
    {
     "name": "stdout",
     "output_type": "stream",
     "text": [
      "[<ast.Expr object at 0x7fc70d858490>, <ast.Name object at 0x7fc70d858040>, <ast.Load object at 0x7fc7113ccb50>]\n",
      "f\n",
      "['y']\n",
      "Module(body=[Expr(value=Call(func=Name(id='f', ctx=Load()), args=[Name(id='x', ctx=Load())], keywords=[]))], type_ignores=[]) f ['y'] Module(body=[Expr(value=BinOp(left=Name(id='y', ctx=Load()), op=Add(), right=Constant(value=1)))], type_ignores=[])\n"
     ]
    },
    {
     "ename": "AttributeError",
     "evalue": "'Call' object has no attribute 'value'",
     "output_type": "error",
     "traceback": [
      "\u001b[0;31m---------------------------------------------------------------------------\u001b[0m",
      "\u001b[0;31mAttributeError\u001b[0m                            Traceback (most recent call last)",
      "\u001b[0;32m<ipython-input-4-4ca492db1c4f>\u001b[0m in \u001b[0;36m<module>\u001b[0;34m\u001b[0m\n\u001b[0;32m----> 1\u001b[0;31m \u001b[0mtest_sub_for_func\u001b[0m\u001b[0;34m(\u001b[0m\u001b[0;34m)\u001b[0m\u001b[0;34m\u001b[0m\u001b[0;34m\u001b[0m\u001b[0m\n\u001b[0m",
      "\u001b[0;32m<ipython-input-3-2e60332d67de>\u001b[0m in \u001b[0;36mtest_sub_for_func\u001b[0;34m()\u001b[0m\n\u001b[1;32m      6\u001b[0m     \u001b[0;32mfor\u001b[0m \u001b[0mexpr\u001b[0m\u001b[0;34m,\u001b[0m \u001b[0mfunc_name\u001b[0m\u001b[0;34m,\u001b[0m \u001b[0mfunc_vars\u001b[0m\u001b[0;34m,\u001b[0m \u001b[0mfunc_expr\u001b[0m\u001b[0;34m,\u001b[0m \u001b[0manswer\u001b[0m \u001b[0;32min\u001b[0m \u001b[0mcases\u001b[0m\u001b[0;34m:\u001b[0m\u001b[0;34m\u001b[0m\u001b[0;34m\u001b[0m\u001b[0m\n\u001b[1;32m      7\u001b[0m         \u001b[0mprint\u001b[0m\u001b[0;34m\u001b[0m\u001b[0;34m\u001b[0m\u001b[0m\n\u001b[0;32m----> 8\u001b[0;31m         subbed = sub_for_func(expr, func_name, func_vars,\n\u001b[0m\u001b[1;32m      9\u001b[0m                                            func_expr)\n\u001b[1;32m     10\u001b[0m         \u001b[0;32massert\u001b[0m \u001b[0meval\u001b[0m\u001b[0;34m(\u001b[0m\u001b[0manswer\u001b[0m\u001b[0;34m)\u001b[0m \u001b[0;34m==\u001b[0m \u001b[0meval\u001b[0m\u001b[0;34m(\u001b[0m\u001b[0msubbed\u001b[0m\u001b[0;34m)\u001b[0m\u001b[0;34m\u001b[0m\u001b[0;34m\u001b[0m\u001b[0m\n",
      "\u001b[0;32m<ipython-input-2-789578a29fdb>\u001b[0m in \u001b[0;36msub_for_func\u001b[0;34m(expr, func_name, func_vars, func_expr)\u001b[0m\n\u001b[1;32m     34\u001b[0m         \u001b[0mprint\u001b[0m\u001b[0;34m(\u001b[0m\u001b[0mfunc_var_names\u001b[0m\u001b[0;34m)\u001b[0m\u001b[0;34m\u001b[0m\u001b[0;34m\u001b[0m\u001b[0m\n\u001b[1;32m     35\u001b[0m \u001b[0;34m\u001b[0m\u001b[0m\n\u001b[0;32m---> 36\u001b[0;31m     \u001b[0mast\u001b[0m \u001b[0;34m=\u001b[0m \u001b[0m_sub_for_func_ast\u001b[0m\u001b[0;34m(\u001b[0m\u001b[0mast\u001b[0m\u001b[0;34m,\u001b[0m \u001b[0mfunc_name\u001b[0m\u001b[0;34m,\u001b[0m \u001b[0mfunc_var_names\u001b[0m\u001b[0;34m,\u001b[0m \u001b[0mfunc_expr_ast\u001b[0m\u001b[0;34m)\u001b[0m\u001b[0;34m\u001b[0m\u001b[0;34m\u001b[0m\u001b[0m\n\u001b[0m\u001b[1;32m     37\u001b[0m \u001b[0;31m#     simple = Simplify._simplify_ast(ast)\u001b[0m\u001b[0;34m\u001b[0m\u001b[0;34m\u001b[0m\u001b[0;34m\u001b[0m\u001b[0m\n\u001b[1;32m     38\u001b[0m     \u001b[0;32mreturn\u001b[0m \u001b[0mast\u001b[0m\u001b[0;34m\u001b[0m\u001b[0;34m\u001b[0m\u001b[0m\n",
      "\u001b[0;32m<ipython-input-2-789578a29fdb>\u001b[0m in \u001b[0;36m_sub_for_func_ast\u001b[0;34m(ast, func_name, func_vars, func_expr_ast)\u001b[0m\n\u001b[1;32m     44\u001b[0m     \u001b[0;32mfor\u001b[0m \u001b[0mnode\u001b[0m \u001b[0;32min\u001b[0m \u001b[0mwalk\u001b[0m\u001b[0;34m(\u001b[0m\u001b[0mast\u001b[0m\u001b[0;34m)\u001b[0m\u001b[0;34m:\u001b[0m\u001b[0;34m\u001b[0m\u001b[0;34m\u001b[0m\u001b[0m\n\u001b[1;32m     45\u001b[0m \u001b[0;34m\u001b[0m\u001b[0m\n\u001b[0;32m---> 46\u001b[0;31m         \u001b[0;32mif\u001b[0m \u001b[0misinstance\u001b[0m\u001b[0;34m(\u001b[0m\u001b[0mnode\u001b[0m\u001b[0;34m,\u001b[0m \u001b[0mCall\u001b[0m\u001b[0;34m)\u001b[0m \u001b[0;32mand\u001b[0m \u001b[0munparse\u001b[0m\u001b[0;34m(\u001b[0m\u001b[0mnode\u001b[0m\u001b[0;34m.\u001b[0m\u001b[0mvalue\u001b[0m\u001b[0;34m.\u001b[0m\u001b[0mid\u001b[0m\u001b[0;34m)\u001b[0m \u001b[0;34m==\u001b[0m \u001b[0mfunc_name\u001b[0m\u001b[0;31m\\\u001b[0m\u001b[0;34m\u001b[0m\u001b[0;34m\u001b[0m\u001b[0m\n\u001b[0m\u001b[1;32m     47\u001b[0m            \u001b[0;32mand\u001b[0m \u001b[0mfunc_vars\u001b[0m \u001b[0;34m==\u001b[0m \u001b[0;34m'*'\u001b[0m\u001b[0;34m:\u001b[0m\u001b[0;34m\u001b[0m\u001b[0;34m\u001b[0m\u001b[0m\n\u001b[1;32m     48\u001b[0m             \u001b[0mworking_ast\u001b[0m \u001b[0;34m=\u001b[0m \u001b[0mcopy\u001b[0m\u001b[0;34m.\u001b[0m\u001b[0mdeepcopy\u001b[0m\u001b[0;34m(\u001b[0m\u001b[0mfunc_expr_ast\u001b[0m\u001b[0;34m)\u001b[0m\u001b[0;34m\u001b[0m\u001b[0;34m\u001b[0m\u001b[0m\n",
      "\u001b[0;31mAttributeError\u001b[0m: 'Call' object has no attribute 'value'"
     ]
    }
   ],
   "source": [
    "test_sub_for_func()"
   ]
  },
  {
   "cell_type": "code",
   "execution_count": 5,
   "metadata": {},
   "outputs": [],
   "source": [
    "import ast\n",
    "flags = ast.PyCF_ONLY_AST \n",
    "tree = compile(\"a+b\", filename='<unknown>', mode='exec',\n",
    "    flags=flags, dont_inherit=True)"
   ]
  },
  {
   "cell_type": "code",
   "execution_count": 1,
   "metadata": {},
   "outputs": [
    {
     "data": {
      "text/plain": [
       "'/usr/bin/python3.9'"
      ]
     },
     "execution_count": 1,
     "metadata": {},
     "output_type": "execute_result"
    }
   ],
   "source": [
    "import sys\n",
    "sys.executable"
   ]
  },
  {
   "cell_type": "code",
   "execution_count": 52,
   "metadata": {},
   "outputs": [],
   "source": [
    "def test__collect_num_denom():\n",
    "        cases = [\n",
    "                 (strip_parse('1 + 3/2 + 4'), (['1'], ['2'])),\n",
    "                 ]\n",
    "        for ast, (nums, denoms) in cases: \n",
    "            n, d = [], []\n",
    "            print(dump(ast))\n",
    "            _collect_num_denom(ast, n, d)\n",
    "            n = [unparse(term) for term in n]\n",
    "            d = [unparse(term) for term in d]\n",
    "#             print(\"numerator\", nums)\n",
    "#             print(\"denominator\", denoms)\n",
    "#             print(n)\n",
    "#             print(d)\n",
    "#             assert set(nums) == set(n)\n",
    "#             assert set(denoms) == set(d)"
   ]
  },
  {
   "cell_type": "code",
   "execution_count": 56,
   "metadata": {},
   "outputs": [
    {
     "name": "stdout",
     "output_type": "stream",
     "text": [
      "Module(body=[Expr(value=BinOp(left=BinOp(left=Constant(value=1), op=Add(), right=BinOp(left=Constant(value=3), op=Div(), right=Constant(value=2))), op=Add(), right=Constant(value=4)))], type_ignores=[])\n",
      "<ast.BinOp object at 0x7fc705712ca0>\n",
      "<ast.BinOp object at 0x7fc705712ca0>\n",
      "<ast.BinOp object at 0x7fc705712460>\n",
      "<ast.BinOp object at 0x7fc705712460>\n",
      "<ast.BinOp object at 0x7fc705712730>\n",
      "<ast.BinOp object at 0x7fc705712730>\n",
      "numerator ['1']\n",
      "denominator ['2']\n",
      "[]\n",
      "[]\n"
     ]
    }
   ],
   "source": [
    "test__collect_num_denom()"
   ]
  },
  {
   "cell_type": "code",
   "execution_count": 60,
   "metadata": {},
   "outputs": [
    {
     "ename": "NameError",
     "evalue": "name 'nums' is not defined",
     "output_type": "error",
     "traceback": [
      "\u001b[0;31m---------------------------------------------------------------------------\u001b[0m",
      "\u001b[0;31mNameError\u001b[0m                                 Traceback (most recent call last)",
      "\u001b[0;32m<ipython-input-60-f855aea7f944>\u001b[0m in \u001b[0;36m<module>\u001b[0;34m\u001b[0m\n\u001b[0;32m----> 1\u001b[0;31m \u001b[0;32mclass\u001b[0m \u001b[0mPowForDoubleStar\u001b[0m\u001b[0;34m(\u001b[0m\u001b[0mNodeVisitor\u001b[0m\u001b[0;34m)\u001b[0m\u001b[0;34m:\u001b[0m\u001b[0;34m\u001b[0m\u001b[0;34m\u001b[0m\u001b[0m\n\u001b[0m\u001b[1;32m      2\u001b[0m     \u001b[0mnums\u001b[0m \u001b[0;34m=\u001b[0m \u001b[0mnums\u001b[0m\u001b[0;34m\u001b[0m\u001b[0;34m\u001b[0m\u001b[0m\n\u001b[1;32m      3\u001b[0m     \u001b[0mdenoms\u001b[0m \u001b[0;34m=\u001b[0m \u001b[0mdenoms\u001b[0m\u001b[0;34m\u001b[0m\u001b[0;34m\u001b[0m\u001b[0m\n\u001b[1;32m      4\u001b[0m     \u001b[0;32mdef\u001b[0m \u001b[0mvisit_BinOp\u001b[0m\u001b[0;34m(\u001b[0m\u001b[0mself\u001b[0m\u001b[0;34m,\u001b[0m \u001b[0mnode\u001b[0m\u001b[0;34m)\u001b[0m\u001b[0;34m:\u001b[0m\u001b[0;34m\u001b[0m\u001b[0;34m\u001b[0m\u001b[0m\n\u001b[1;32m      5\u001b[0m         \u001b[0mnode\u001b[0m\u001b[0;34m.\u001b[0m\u001b[0mleft\u001b[0m \u001b[0;34m=\u001b[0m \u001b[0mself\u001b[0m\u001b[0;34m.\u001b[0m\u001b[0mvisit\u001b[0m\u001b[0;34m(\u001b[0m\u001b[0mnode\u001b[0m\u001b[0;34m.\u001b[0m\u001b[0mleft\u001b[0m\u001b[0;34m)\u001b[0m\u001b[0;34m\u001b[0m\u001b[0;34m\u001b[0m\u001b[0m\n",
      "\u001b[0;32m<ipython-input-60-f855aea7f944>\u001b[0m in \u001b[0;36mPowForDoubleStar\u001b[0;34m()\u001b[0m\n\u001b[1;32m      1\u001b[0m \u001b[0;32mclass\u001b[0m \u001b[0mPowForDoubleStar\u001b[0m\u001b[0;34m(\u001b[0m\u001b[0mNodeVisitor\u001b[0m\u001b[0;34m)\u001b[0m\u001b[0;34m:\u001b[0m\u001b[0;34m\u001b[0m\u001b[0;34m\u001b[0m\u001b[0m\n\u001b[0;32m----> 2\u001b[0;31m     \u001b[0mnums\u001b[0m \u001b[0;34m=\u001b[0m \u001b[0mnums\u001b[0m\u001b[0;34m\u001b[0m\u001b[0;34m\u001b[0m\u001b[0m\n\u001b[0m\u001b[1;32m      3\u001b[0m     \u001b[0mdenoms\u001b[0m \u001b[0;34m=\u001b[0m \u001b[0mdenoms\u001b[0m\u001b[0;34m\u001b[0m\u001b[0;34m\u001b[0m\u001b[0m\n\u001b[1;32m      4\u001b[0m     \u001b[0;32mdef\u001b[0m \u001b[0mvisit_BinOp\u001b[0m\u001b[0;34m(\u001b[0m\u001b[0mself\u001b[0m\u001b[0;34m,\u001b[0m \u001b[0mnode\u001b[0m\u001b[0;34m)\u001b[0m\u001b[0;34m:\u001b[0m\u001b[0;34m\u001b[0m\u001b[0;34m\u001b[0m\u001b[0m\n\u001b[1;32m      5\u001b[0m         \u001b[0mnode\u001b[0m\u001b[0;34m.\u001b[0m\u001b[0mleft\u001b[0m \u001b[0;34m=\u001b[0m \u001b[0mself\u001b[0m\u001b[0;34m.\u001b[0m\u001b[0mvisit\u001b[0m\u001b[0;34m(\u001b[0m\u001b[0mnode\u001b[0m\u001b[0;34m.\u001b[0m\u001b[0mleft\u001b[0m\u001b[0;34m)\u001b[0m\u001b[0;34m\u001b[0m\u001b[0;34m\u001b[0m\u001b[0m\n",
      "\u001b[0;31mNameError\u001b[0m: name 'nums' is not defined"
     ]
    }
   ],
   "source": [
    "class PowForDoubleStar(NodeVisitor):\n",
    "    nums = nums\n",
    "    denoms = denoms\n",
    "    def visit_BinOp(self, node):\n",
    "        node.left = self.visit(node.left)\n",
    "        node.right = self.visit(node.right)\n",
    "        print(node)\n",
    "        print(node)\n",
    "        if not (isinstance(node.op, Mult) or isinstance(node.op, Div)):\n",
    "            self.nums.append(node)\n",
    "           \n",
    "        if isinstance(node.left, Div) or isinstance(node.left, Mult):\n",
    "            _collect_num_denom(node.left, nums, denoms)\n",
    "        else:\n",
    "            self.nums.append(node.left)\n",
    "        if isinstance(node.right, Div) or isinstance(node.right, Mult):\n",
    "            if isinstance(node, Mult):\n",
    "                _collect_num_denom(node.right, nums, denoms)\n",
    "            elif isinstance(node, Div):\n",
    "                _collect_num_denom(node.right, denoms, nums)\n",
    "        else:\n",
    "            if isinstance(node, Mult):\n",
    "                self.nums.append(node.right)\n",
    "            elif isinstance(node, Div):\n",
    "                denoms.append(node.right)\n",
    "        self.generic_visit(node)\n",
    "        \n",
    "\n",
    "      \n",
    "    \n",
    "def collect_num_denom(tree, nums, denoms):\n",
    "    \"\"\"\n",
    "    Append to nums and denoms, respectively, the nodes in the numerator and \n",
    "    denominator of an AST.\n",
    "    \"\"\"\n",
    "    PowForDoubleStar().visit(tree, nums, denoms)"
   ]
  },
  {
   "cell_type": "code",
   "execution_count": 87,
   "metadata": {},
   "outputs": [
    {
     "name": "stdout",
     "output_type": "stream",
     "text": [
      "Module(body=[Expr(value=BinOp(left=Constant(value=1), op=Div(), right=Constant(value=2)))], type_ignores=[])\n",
      "<ast.Div object at 0x7fc7113c8fd0>\n",
      "[]\n",
      "[]\n"
     ]
    }
   ],
   "source": [
    "x = \"1/2\"\n",
    "def strip_parse(x):\n",
    "    return parse(x)\n",
    "nums = []\n",
    "denoms = []\n",
    "class PowForDoubleStar(NodeVisitor):\n",
    "    def visit_BinOp(self, node):\n",
    "        node.left = self.visit(node.left)\n",
    "        node.right = self.visit(node.right)\n",
    "        print(node.op)\n",
    "        if not (isinstance(node.op, Mult) or isinstance(node.op, Div)):\n",
    "            print(\"here\", node)\n",
    "           \n",
    "#         if isinstance(node.left, Div) or isinstance(node.left, Mult):\n",
    "#             print(\"entered here\")\n",
    "#         else:\n",
    "#             nums.append(node.left)\n",
    "#         if isinstance(node.right, Div) or isinstance(node.right, Mult):\n",
    "#             if isinstance(node, Mult):\n",
    "#                 _collect_num_denom(node.right, nums, denoms)\n",
    "#             elif isinstance(node, Div):\n",
    "#                 _collect_num_denom(node.right, denoms, nums)\n",
    "#         else:\n",
    "#             if isinstance(node, Mult):\n",
    "#                 nums.append(node.right)\n",
    "#             elif isinstance(node, Div):\n",
    "#                 denoms.append(node.right)\n",
    "        self.generic_visit(node)\n",
    "tree = strip_parse(x)\n",
    "print(dump(tree))\n",
    "PowForDoubleStar().visit(tree)\n",
    "print(nums)\n",
    "print(denoms)"
   ]
  },
  {
   "cell_type": "code",
   "execution_count": 138,
   "metadata": {},
   "outputs": [
    {
     "name": "stdout",
     "output_type": "stream",
     "text": [
      "Module(body=[Expr(value=BinOp(left=BinOp(left=Constant(value=1), op=Div(), right=Constant(value=4)), op=Div(), right=Constant(value=2)))], type_ignores=[])\n",
      "nums [1]\n",
      "denoms [4, 2]\n"
     ]
    }
   ],
   "source": [
    "x = \"1/4/2\"\n",
    "tree = strip_parse(x)\n",
    "print(dump(tree))\n",
    "# print(tree.body[0].value)\n",
    "nums = []\n",
    "denoms = []\n",
    "# print(\"children\", tree.iter_child_nodes)\n",
    "_collect_num_denom(tree.body[0].value, nums, denoms)\n",
    "print(\"nums\", nums)\n",
    "\n",
    "print(\"denoms\", denoms)"
   ]
  },
  {
   "cell_type": "code",
   "execution_count": 137,
   "metadata": {},
   "outputs": [
    {
     "name": "stdout",
     "output_type": "stream",
     "text": [
      "Module(body=[Expr(value=BinOp(left=BinOp(left=Constant(value=1), op=Div(), right=Constant(value=3)), op=Div(), right=Constant(value=2)))], type_ignores=[])\n",
      "<ast.BinOp object at 0x7fc705712880>\n",
      "<ast.BinOp object at 0x7fc705712c10>\n",
      "<ast.Constant object at 0x7fc705712bb0>\n"
     ]
    }
   ],
   "source": [
    "x = \"1/3/2\"\n",
    "tree = strip_parse(x)\n",
    "print(dump(tree))\n",
    "print(tree.body[0].value)\n",
    "print(tree.body[0].value.left)\n",
    "print(tree.body[0].value.right)"
   ]
  },
  {
   "cell_type": "code",
   "execution_count": 136,
   "metadata": {},
   "outputs": [],
   "source": [
    "def _collect_num_denom(ast, nums, denoms):\n",
    "    if not isinstance(ast, BinOp):\n",
    "        nums.append(ast.value)\n",
    "        return\n",
    "    if (isinstance(ast.op, Div) or isinstance(ast.op, Mult)):\n",
    "        if isinstance(ast.left, BinOp) and isinstance(ast.op, Mult):\n",
    "            _collect_num_denom(ast.left, nums, denoms)\n",
    "        else:\n",
    "            nums.append(ast.left.value)\n",
    "            \n",
    "        if isinstance(ast.right, BinOp) and isinstance(ast.op, Div):\n",
    "            _collect_num_denom(ast.right, denoms, nums)\n",
    "            else:\n",
    "                denoms.append(ast.right.value)\n",
    "        else:\n",
    "            if isinstance(ast.op, Mult):\n",
    "                nums.append(ast.right.value)\n",
    "            elif isinstance(ast.op, Div):\n",
    "                denoms.append(ast.right.value)\n",
    "            \n",
    "       "
   ]
  }
 ],
 "metadata": {
  "kernelspec": {
   "display_name": "Python 3",
   "language": "python",
   "name": "python3"
  },
  "language_info": {
   "codemirror_mode": {
    "name": "ipython",
    "version": 3
   },
   "file_extension": ".py",
   "mimetype": "text/x-python",
   "name": "python",
   "nbconvert_exporter": "python",
   "pygments_lexer": "ipython3",
   "version": "3.9.5"
  }
 },
 "nbformat": 4,
 "nbformat_minor": 2
}
