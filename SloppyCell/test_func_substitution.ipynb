{
 "cells": [
  {
   "cell_type": "code",
   "execution_count": 9,
   "metadata": {},
   "outputs": [],
   "source": [
    "from ast import *\n",
    "def _sub_subtrees_for_vars(ast, ast_mappings):\n",
    "    for node in walk(ast):\n",
    "        if isinstance(node, Name) and ast_mappings.has_key(unparse(ast)):\n",
    "            node = ast_mappings[unparse(ast)]\n",
    "    return ast\n",
    "def strip_parse(expr):\n",
    "    return parse(expr)\n",
    "def sub_for_func(expr, func_name, func_vars, func_expr):\n",
    "    ast = strip_parse(expr)\n",
    "    func_name_ast = strip_parse(func_name)\n",
    "    nodes = [node for node in walk(func_name_ast.body[0])]\n",
    "    print(nodes)\n",
    "    if not isinstance(nodes[1], Name):\n",
    "        raise ValueError('Function name is not a simple name.')\n",
    "    \n",
    "    func_name = func_name_ast.body[0].value.id\n",
    "    print(func_name)\n",
    "    func_expr_ast = strip_parse(func_expr)\n",
    "    # We can strip_parse  the '*', so we special case it here.\n",
    "    if func_vars == '*':\n",
    "        if not hasattr(func_expr_ast, 'nodes'):\n",
    "            raise ValueError(\"Top-level function in %s does not appear to \"\n",
    "                             \"accept variable number of arguments. (It has no \"\n",
    "                             \"'nodes' attribute.)\" % func_expr)\n",
    "\n",
    "        func_var_names = '*'\n",
    "    else:\n",
    "        func_vars_ast = [strip_parse(var).body[0].value for var in func_vars]\n",
    "        for var_ast in func_vars_ast:\n",
    "            if not isinstance(var_ast, Name):\n",
    "                raise ValueError('Function variable is not a simple name.')\n",
    "        func_var_names = [getattr(var_ast, 'id') for var_ast in func_vars_ast]\n",
    "        print(func_var_names)\n",
    "\n",
    "    ast = _sub_for_func_ast(ast, func_name, func_var_names, func_expr_ast)\n",
    "#     simple = Simplify._simplify_ast(ast)\n",
    "    return ast\n",
    "\n",
    "\n",
    "def _sub_for_func_ast(ast, func_name, func_vars, func_expr_ast):\n",
    "\n",
    "    print(dump(ast), func_name, func_vars, dump(func_expr_ast))\n",
    "    for node in walk(ast):\n",
    "    \n",
    "        if isinstance(node, Call) and unparse(node.value.id) == func_name\\\n",
    "           and func_vars == '*':\n",
    "            working_ast = copy.deepcopy(func_expr_ast)\n",
    "            new_args = [_sub_for_func_ast(arg_ast, func_name, func_vars, \n",
    "                                          func_expr_ast) for arg_ast in node.value.args]\n",
    "            # This subs out the arguments of the original function.\n",
    "            working_ast.node.value.args = new_args\n",
    "            return working_ast\n",
    "        if isinstance(ast, Call) and unparse(node.value.id) == func_name\\\n",
    "           and len(node.value.args) == len(func_vars):\n",
    "            # If our ast is the function we're looking for, we take the ast\n",
    "            #  for the function expression, substitute for its arguments, and\n",
    "            #  return\n",
    "            working_ast = copy.deepcopy(func_expr_ast)\n",
    "            mapping = {}\n",
    "            for var_name, arg_ast in zip(func_vars, node.value.args):\n",
    "                subbed_arg_ast = _sub_for_func_ast(arg_ast, func_name, func_vars, \n",
    "                                                   func_expr_ast)\n",
    "                mapping[var_name] = subbed_arg_ast\n",
    "            _sub_subtrees_for_vars(working_ast, mapping)\n",
    "            return working_ast\n",
    "    return ast\n",
    "    "
   ]
  },
  {
   "cell_type": "code",
   "execution_count": 10,
   "metadata": {},
   "outputs": [],
   "source": [
    "def test_sub_for_func():\n",
    "    cases = [('f(x)', 'f', 'y', 'y+1',\n",
    "              'x+1'),\n",
    "             ]\n",
    "\n",
    "    for expr, func_name, func_vars, func_expr, answer in cases:\n",
    "        print\n",
    "        subbed = sub_for_func(expr, func_name, func_vars,\n",
    "                                           func_expr)\n",
    "        assert eval(answer) == eval(subbed)"
   ]
  },
  {
   "cell_type": "code",
   "execution_count": 11,
   "metadata": {},
   "outputs": [
    {
     "name": "stdout",
     "output_type": "stream",
     "text": [
      "\n",
      "[<_ast.Expr object at 0x7f66067f6210>, <_ast.Name object at 0x7f66067fd790>, <_ast.Load object at 0x7f6606cc2950>]\n",
      "f\n",
      "['y']\n",
      "(\"Module(body=[Expr(value=Call(func=Name(id='f', ctx=Load()), args=[Name(id='x', ctx=Load())], keywords=[], starargs=None, kwargs=None))])\", 'f', ['y'], \"Module(body=[Expr(value=BinOp(left=Name(id='y', ctx=Load()), op=Add(), right=Num(n=1)))])\")\n"
     ]
    },
    {
     "ename": "NameError",
     "evalue": "global name 'unparse' is not defined",
     "output_type": "error",
     "traceback": [
      "\u001b[0;31m---------------------------------------------------------------------------\u001b[0m",
      "\u001b[0;31mNameError\u001b[0m                                 Traceback (most recent call last)",
      "\u001b[0;32m<ipython-input-11-4ca492db1c4f>\u001b[0m in \u001b[0;36m<module>\u001b[0;34m()\u001b[0m\n\u001b[0;32m----> 1\u001b[0;31m \u001b[0mtest_sub_for_func\u001b[0m\u001b[0;34m(\u001b[0m\u001b[0;34m)\u001b[0m\u001b[0;34m\u001b[0m\u001b[0m\n\u001b[0m",
      "\u001b[0;32m<ipython-input-10-2e60332d67de>\u001b[0m in \u001b[0;36mtest_sub_for_func\u001b[0;34m()\u001b[0m\n\u001b[1;32m      7\u001b[0m         \u001b[0;32mprint\u001b[0m\u001b[0;34m\u001b[0m\u001b[0m\n\u001b[1;32m      8\u001b[0m         subbed = sub_for_func(expr, func_name, func_vars,\n\u001b[0;32m----> 9\u001b[0;31m                                            func_expr)\n\u001b[0m\u001b[1;32m     10\u001b[0m         \u001b[0;32massert\u001b[0m \u001b[0meval\u001b[0m\u001b[0;34m(\u001b[0m\u001b[0manswer\u001b[0m\u001b[0;34m)\u001b[0m \u001b[0;34m==\u001b[0m \u001b[0meval\u001b[0m\u001b[0;34m(\u001b[0m\u001b[0msubbed\u001b[0m\u001b[0;34m)\u001b[0m\u001b[0;34m\u001b[0m\u001b[0m\n",
      "\u001b[0;32m<ipython-input-9-28b91b8d5f8f>\u001b[0m in \u001b[0;36msub_for_func\u001b[0;34m(expr, func_name, func_vars, func_expr)\u001b[0m\n\u001b[1;32m     34\u001b[0m         \u001b[0;32mprint\u001b[0m\u001b[0;34m(\u001b[0m\u001b[0mfunc_var_names\u001b[0m\u001b[0;34m)\u001b[0m\u001b[0;34m\u001b[0m\u001b[0m\n\u001b[1;32m     35\u001b[0m \u001b[0;34m\u001b[0m\u001b[0m\n\u001b[0;32m---> 36\u001b[0;31m     \u001b[0mast\u001b[0m \u001b[0;34m=\u001b[0m \u001b[0m_sub_for_func_ast\u001b[0m\u001b[0;34m(\u001b[0m\u001b[0mast\u001b[0m\u001b[0;34m,\u001b[0m \u001b[0mfunc_name\u001b[0m\u001b[0;34m,\u001b[0m \u001b[0mfunc_var_names\u001b[0m\u001b[0;34m,\u001b[0m \u001b[0mfunc_expr_ast\u001b[0m\u001b[0;34m)\u001b[0m\u001b[0;34m\u001b[0m\u001b[0m\n\u001b[0m\u001b[1;32m     37\u001b[0m \u001b[0;31m#     simple = Simplify._simplify_ast(ast)\u001b[0m\u001b[0;34m\u001b[0m\u001b[0;34m\u001b[0m\u001b[0m\n\u001b[1;32m     38\u001b[0m     \u001b[0;32mreturn\u001b[0m \u001b[0mast\u001b[0m\u001b[0;34m\u001b[0m\u001b[0m\n",
      "\u001b[0;32m<ipython-input-9-28b91b8d5f8f>\u001b[0m in \u001b[0;36m_sub_for_func_ast\u001b[0;34m(ast, func_name, func_vars, func_expr_ast)\u001b[0m\n\u001b[1;32m     44\u001b[0m     \u001b[0;32mfor\u001b[0m \u001b[0mnode\u001b[0m \u001b[0;32min\u001b[0m \u001b[0mwalk\u001b[0m\u001b[0;34m(\u001b[0m\u001b[0mast\u001b[0m\u001b[0;34m)\u001b[0m\u001b[0;34m:\u001b[0m\u001b[0;34m\u001b[0m\u001b[0m\n\u001b[1;32m     45\u001b[0m \u001b[0;34m\u001b[0m\u001b[0m\n\u001b[0;32m---> 46\u001b[0;31m         \u001b[0;32mif\u001b[0m \u001b[0misinstance\u001b[0m\u001b[0;34m(\u001b[0m\u001b[0mnode\u001b[0m\u001b[0;34m,\u001b[0m \u001b[0mCall\u001b[0m\u001b[0;34m)\u001b[0m \u001b[0;32mand\u001b[0m \u001b[0munparse\u001b[0m\u001b[0;34m(\u001b[0m\u001b[0mnode\u001b[0m\u001b[0;34m.\u001b[0m\u001b[0mvalue\u001b[0m\u001b[0;34m.\u001b[0m\u001b[0mid\u001b[0m\u001b[0;34m)\u001b[0m \u001b[0;34m==\u001b[0m \u001b[0mfunc_name\u001b[0m           \u001b[0;32mand\u001b[0m \u001b[0mfunc_vars\u001b[0m \u001b[0;34m==\u001b[0m \u001b[0;34m'*'\u001b[0m\u001b[0;34m:\u001b[0m\u001b[0;34m\u001b[0m\u001b[0m\n\u001b[0m\u001b[1;32m     47\u001b[0m             \u001b[0mworking_ast\u001b[0m \u001b[0;34m=\u001b[0m \u001b[0mcopy\u001b[0m\u001b[0;34m.\u001b[0m\u001b[0mdeepcopy\u001b[0m\u001b[0;34m(\u001b[0m\u001b[0mfunc_expr_ast\u001b[0m\u001b[0;34m)\u001b[0m\u001b[0;34m\u001b[0m\u001b[0m\n\u001b[1;32m     48\u001b[0m             new_args = [_sub_for_func_ast(arg_ast, func_name, func_vars, \n",
      "\u001b[0;31mNameError\u001b[0m: global name 'unparse' is not defined"
     ]
    }
   ],
   "source": [
    "test_sub_for_func()"
   ]
  },
  {
   "cell_type": "code",
   "execution_count": 5,
   "metadata": {},
   "outputs": [],
   "source": [
    "import ast\n",
    "flags = ast.PyCF_ONLY_AST \n",
    "tree = compile(\"a+b\", filename='<unknown>', mode='exec',\n",
    "    flags=flags, dont_inherit=True)"
   ]
  },
  {
   "cell_type": "code",
   "execution_count": 8,
   "metadata": {},
   "outputs": [
    {
     "data": {
      "text/plain": [
       "'/home/sudheera/dev/p4/bin/python'"
      ]
     },
     "execution_count": 8,
     "metadata": {},
     "output_type": "execute_result"
    }
   ],
   "source": [
    "import sys\n",
    "sys.executable"
   ]
  }
 ],
 "metadata": {
  "kernelspec": {
   "display_name": "Python 3",
   "language": "python",
   "name": "python3"
  },
  "language_info": {
   "codemirror_mode": {
    "name": "ipython",
    "version": 2
   },
   "file_extension": ".py",
   "mimetype": "text/x-python",
   "name": "python",
   "nbconvert_exporter": "python",
   "pygments_lexer": "ipython2",
   "version": "2.7.18"
  }
 },
 "nbformat": 4,
 "nbformat_minor": 2
}
